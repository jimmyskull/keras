{
 "cells": [
  {
   "cell_type": "code",
   "execution_count": 1,
   "metadata": {
    "ExecuteTime": {
     "end_time": "2017-09-10T23:53:17.724256Z",
     "start_time": "2017-09-10T20:53:11.863058-03:00"
    }
   },
   "outputs": [
    {
     "name": "stderr",
     "output_type": "stream",
     "text": [
      "Using TensorFlow backend.\n"
     ]
    }
   ],
   "source": [
    "import pandas as pd\n",
    "import numpy as np\n",
    "\n",
    "import keras\n",
    "from keras.datasets import mnist\n",
    "from keras.models import Sequential\n",
    "from keras.layers import Dense, Dropout\n",
    "from keras.optimizers import RMSprop\n",
    "\n",
    "from sklearn.model_selection import train_test_split\n",
    "from sklearn.preprocessing import StandardScaler"
   ]
  },
  {
   "cell_type": "code",
   "execution_count": 2,
   "metadata": {
    "ExecuteTime": {
     "end_time": "2017-09-10T23:53:17.849828Z",
     "start_time": "2017-09-10T20:53:17.725504-03:00"
    },
    "collapsed": true
   },
   "outputs": [],
   "source": [
    "data = pd.read_csv('cs-training.csv', index_col=0)"
   ]
  },
  {
   "cell_type": "code",
   "execution_count": 3,
   "metadata": {
    "ExecuteTime": {
     "end_time": "2017-09-10T23:53:17.868390Z",
     "start_time": "2017-09-10T20:53:17.851314-03:00"
    }
   },
   "outputs": [
    {
     "data": {
      "text/html": [
       "<div>\n",
       "<style>\n",
       "    .dataframe thead tr:only-child th {\n",
       "        text-align: right;\n",
       "    }\n",
       "\n",
       "    .dataframe thead th {\n",
       "        text-align: left;\n",
       "    }\n",
       "\n",
       "    .dataframe tbody tr th {\n",
       "        vertical-align: top;\n",
       "    }\n",
       "</style>\n",
       "<table border=\"1\" class=\"dataframe\">\n",
       "  <thead>\n",
       "    <tr style=\"text-align: right;\">\n",
       "      <th></th>\n",
       "      <th>SeriousDlqin2yrs</th>\n",
       "      <th>RevolvingUtilizationOfUnsecuredLines</th>\n",
       "      <th>age</th>\n",
       "      <th>NumberOfTime30-59DaysPastDueNotWorse</th>\n",
       "      <th>DebtRatio</th>\n",
       "      <th>MonthlyIncome</th>\n",
       "      <th>NumberOfOpenCreditLinesAndLoans</th>\n",
       "      <th>NumberOfTimes90DaysLate</th>\n",
       "      <th>NumberRealEstateLoansOrLines</th>\n",
       "      <th>NumberOfTime60-89DaysPastDueNotWorse</th>\n",
       "      <th>NumberOfDependents</th>\n",
       "    </tr>\n",
       "  </thead>\n",
       "  <tbody>\n",
       "    <tr>\n",
       "      <th>1</th>\n",
       "      <td>1</td>\n",
       "      <td>0.766127</td>\n",
       "      <td>45</td>\n",
       "      <td>2</td>\n",
       "      <td>0.802982</td>\n",
       "      <td>9120.0</td>\n",
       "      <td>13</td>\n",
       "      <td>0</td>\n",
       "      <td>6</td>\n",
       "      <td>0</td>\n",
       "      <td>2.0</td>\n",
       "    </tr>\n",
       "    <tr>\n",
       "      <th>2</th>\n",
       "      <td>0</td>\n",
       "      <td>0.957151</td>\n",
       "      <td>40</td>\n",
       "      <td>0</td>\n",
       "      <td>0.121876</td>\n",
       "      <td>2600.0</td>\n",
       "      <td>4</td>\n",
       "      <td>0</td>\n",
       "      <td>0</td>\n",
       "      <td>0</td>\n",
       "      <td>1.0</td>\n",
       "    </tr>\n",
       "    <tr>\n",
       "      <th>3</th>\n",
       "      <td>0</td>\n",
       "      <td>0.658180</td>\n",
       "      <td>38</td>\n",
       "      <td>1</td>\n",
       "      <td>0.085113</td>\n",
       "      <td>3042.0</td>\n",
       "      <td>2</td>\n",
       "      <td>1</td>\n",
       "      <td>0</td>\n",
       "      <td>0</td>\n",
       "      <td>0.0</td>\n",
       "    </tr>\n",
       "    <tr>\n",
       "      <th>4</th>\n",
       "      <td>0</td>\n",
       "      <td>0.233810</td>\n",
       "      <td>30</td>\n",
       "      <td>0</td>\n",
       "      <td>0.036050</td>\n",
       "      <td>3300.0</td>\n",
       "      <td>5</td>\n",
       "      <td>0</td>\n",
       "      <td>0</td>\n",
       "      <td>0</td>\n",
       "      <td>0.0</td>\n",
       "    </tr>\n",
       "    <tr>\n",
       "      <th>5</th>\n",
       "      <td>0</td>\n",
       "      <td>0.907239</td>\n",
       "      <td>49</td>\n",
       "      <td>1</td>\n",
       "      <td>0.024926</td>\n",
       "      <td>63588.0</td>\n",
       "      <td>7</td>\n",
       "      <td>0</td>\n",
       "      <td>1</td>\n",
       "      <td>0</td>\n",
       "      <td>0.0</td>\n",
       "    </tr>\n",
       "  </tbody>\n",
       "</table>\n",
       "</div>"
      ],
      "text/plain": [
       "   SeriousDlqin2yrs  RevolvingUtilizationOfUnsecuredLines  age  \\\n",
       "1                 1                              0.766127   45   \n",
       "2                 0                              0.957151   40   \n",
       "3                 0                              0.658180   38   \n",
       "4                 0                              0.233810   30   \n",
       "5                 0                              0.907239   49   \n",
       "\n",
       "   NumberOfTime30-59DaysPastDueNotWorse  DebtRatio  MonthlyIncome  \\\n",
       "1                                     2   0.802982         9120.0   \n",
       "2                                     0   0.121876         2600.0   \n",
       "3                                     1   0.085113         3042.0   \n",
       "4                                     0   0.036050         3300.0   \n",
       "5                                     1   0.024926        63588.0   \n",
       "\n",
       "   NumberOfOpenCreditLinesAndLoans  NumberOfTimes90DaysLate  \\\n",
       "1                               13                        0   \n",
       "2                                4                        0   \n",
       "3                                2                        1   \n",
       "4                                5                        0   \n",
       "5                                7                        0   \n",
       "\n",
       "   NumberRealEstateLoansOrLines  NumberOfTime60-89DaysPastDueNotWorse  \\\n",
       "1                             6                                     0   \n",
       "2                             0                                     0   \n",
       "3                             0                                     0   \n",
       "4                             0                                     0   \n",
       "5                             1                                     0   \n",
       "\n",
       "   NumberOfDependents  \n",
       "1                 2.0  \n",
       "2                 1.0  \n",
       "3                 0.0  \n",
       "4                 0.0  \n",
       "5                 0.0  "
      ]
     },
     "execution_count": 3,
     "metadata": {},
     "output_type": "execute_result"
    }
   ],
   "source": [
    "data.head()"
   ]
  },
  {
   "cell_type": "code",
   "execution_count": 4,
   "metadata": {
    "ExecuteTime": {
     "end_time": "2017-09-10T23:53:17.910715Z",
     "start_time": "2017-09-10T20:53:17.871395-03:00"
    },
    "collapsed": true
   },
   "outputs": [],
   "source": [
    "X, y = data.drop('SeriousDlqin2yrs', axis=1).fillna(0), data.SeriousDlqin2yrs\n",
    "\n",
    "X_train, X_test, y_train, y_test = train_test_split(\n",
    "    X, y, test_size=0.33)"
   ]
  },
  {
   "cell_type": "code",
   "execution_count": 5,
   "metadata": {
    "ExecuteTime": {
     "end_time": "2017-09-10T23:53:17.922241Z",
     "start_time": "2017-09-10T20:53:17.914497-03:00"
    },
    "collapsed": true
   },
   "outputs": [],
   "source": [
    "class Prepare(object):\n",
    "    def __init__(self):\n",
    "        pass\n",
    "    \n",
    "    def fit(self, X, y=None):\n",
    "        self.scaler_ = StandardScaler()\n",
    "        self.scaler_.fit(X, y)\n",
    "\n",
    "    def transform(self, X, y, num_classes=2):\n",
    "        X_r = self.scaler_.transform(X)\n",
    "        y_r = keras.utils.to_categorical(y, num_classes)\n",
    "        return X_r, y_r"
   ]
  },
  {
   "cell_type": "code",
   "execution_count": 6,
   "metadata": {
    "ExecuteTime": {
     "end_time": "2017-09-10T23:53:17.963516Z",
     "start_time": "2017-09-10T20:53:17.923743-03:00"
    }
   },
   "outputs": [],
   "source": [
    "prep = Prepare()\n",
    "prep.fit(X_train, y_train)\n",
    "X, y = prep.transform(X, y)\n",
    "\n",
    "X_train, X_test, y_train, y_test = train_test_split(\n",
    "    X, y, test_size=0.33)"
   ]
  },
  {
   "cell_type": "code",
   "execution_count": 7,
   "metadata": {
    "ExecuteTime": {
     "end_time": "2017-09-10T23:53:17.967853Z",
     "start_time": "2017-09-10T20:53:17.965027-03:00"
    }
   },
   "outputs": [
    {
     "data": {
      "text/plain": [
       "(100500, 10)"
      ]
     },
     "execution_count": 7,
     "metadata": {},
     "output_type": "execute_result"
    }
   ],
   "source": [
    "X_train.shape"
   ]
  },
  {
   "cell_type": "code",
   "execution_count": 8,
   "metadata": {
    "ExecuteTime": {
     "end_time": "2017-09-10T23:53:17.979609Z",
     "start_time": "2017-09-10T20:53:17.969363-03:00"
    }
   },
   "outputs": [],
   "source": [
    "class NeuralNetwork(object):\n",
    "    def __init__(self, batch_size=32, epochs=30,\n",
    "                 validation_set=None):\n",
    "        assert validation_set is not None\n",
    "        self.model_ = Sequential([\n",
    "            Dense(512, activation='relu', input_shape=(10,)),\n",
    "            Dropout(0.2),\n",
    "            Dense(512, activation='relu'),\n",
    "            Dropout(0.2),\n",
    "            Dense(2, activation='softmax')\n",
    "        ])\n",
    "        self.model_.compile(\n",
    "            loss='binary_crossentropy',\n",
    "            optimizer='RMSprop',\n",
    "            metrics=['accuracy'])\n",
    "        self.batch_size_ = batch_size\n",
    "        self.epochs_ = epochs\n",
    "        self.validation_set_ = validation_set\n",
    "    \n",
    "    def fit(self, X, y):\n",
    "        self.history_ = self.model_.fit(\n",
    "            X, y,\n",
    "            batch_size=self.batch_size_,\n",
    "            epochs=self.epochs_,\n",
    "            verbose=1,\n",
    "            validation_data=self.validation_set_)\n",
    "\n",
    "    def predict(self, X):\n",
    "        pass"
   ]
  },
  {
   "cell_type": "code",
   "execution_count": 9,
   "metadata": {
    "ExecuteTime": {
     "end_time": "2017-09-10T23:58:00.765698Z",
     "start_time": "2017-09-10T20:53:17.980818-03:00"
    }
   },
   "outputs": [
    {
     "name": "stdout",
     "output_type": "stream",
     "text": [
      "Train on 100500 samples, validate on 49500 samples\n",
      "Epoch 1/30\n",
      "100500/100500 [==============================] - 10s - loss: 0.2140 - acc: 0.9350 - val_loss: 0.2036 - val_acc: 0.9377\n",
      "Epoch 2/30\n",
      "100500/100500 [==============================] - 10s - loss: 0.2103 - acc: 0.9354 - val_loss: 0.2083 - val_acc: 0.9377\n",
      "Epoch 3/30\n",
      "100500/100500 [==============================] - 10s - loss: 0.2114 - acc: 0.9356 - val_loss: 0.2082 - val_acc: 0.9370\n",
      "Epoch 4/30\n",
      "100500/100500 [==============================] - 9s - loss: 0.2115 - acc: 0.9355 - val_loss: 0.2090 - val_acc: 0.9375\n",
      "Epoch 5/30\n",
      "100500/100500 [==============================] - 9s - loss: 0.2117 - acc: 0.9355 - val_loss: 0.2023 - val_acc: 0.9367\n",
      "Epoch 6/30\n",
      "100500/100500 [==============================] - 10s - loss: 0.2116 - acc: 0.9355 - val_loss: 0.2030 - val_acc: 0.9362\n",
      "Epoch 7/30\n",
      "100500/100500 [==============================] - 10s - loss: 0.2119 - acc: 0.9353 - val_loss: 0.2097 - val_acc: 0.9373\n",
      "Epoch 8/30\n",
      "100500/100500 [==============================] - 9s - loss: 0.2123 - acc: 0.9357 - val_loss: 0.2063 - val_acc: 0.9364\n",
      "Epoch 9/30\n",
      "100500/100500 [==============================] - 9s - loss: 0.2131 - acc: 0.9358 - val_loss: 0.2034 - val_acc: 0.9369\n",
      "Epoch 10/30\n",
      "100500/100500 [==============================] - 8s - loss: 0.2124 - acc: 0.9357 - val_loss: 0.2099 - val_acc: 0.9373\n",
      "Epoch 11/30\n",
      "100500/100500 [==============================] - 8s - loss: 0.2140 - acc: 0.9355 - val_loss: 0.2046 - val_acc: 0.9370\n",
      "Epoch 12/30\n",
      "100500/100500 [==============================] - 10s - loss: 0.2138 - acc: 0.9358 - val_loss: 0.2047 - val_acc: 0.9372\n",
      "Epoch 13/30\n",
      "100500/100500 [==============================] - 11s - loss: 0.2152 - acc: 0.9359 - val_loss: 0.2078 - val_acc: 0.9366\n",
      "Epoch 14/30\n",
      "100500/100500 [==============================] - 8s - loss: 0.2148 - acc: 0.9359 - val_loss: 0.2128 - val_acc: 0.9371\n",
      "Epoch 15/30\n",
      "100500/100500 [==============================] - 9s - loss: 0.2168 - acc: 0.9357 - val_loss: 0.2079 - val_acc: 0.9374\n",
      "Epoch 16/30\n",
      "100500/100500 [==============================] - 8s - loss: 0.2161 - acc: 0.9361 - val_loss: 0.2113 - val_acc: 0.9364\n",
      "Epoch 17/30\n",
      "100500/100500 [==============================] - 8s - loss: 0.2156 - acc: 0.9359 - val_loss: 0.2153 - val_acc: 0.9372\n",
      "Epoch 18/30\n",
      "100500/100500 [==============================] - 8s - loss: 0.2179 - acc: 0.9359 - val_loss: 0.2095 - val_acc: 0.9377\n",
      "Epoch 19/30\n",
      "100500/100500 [==============================] - 8s - loss: 0.2194 - acc: 0.9358 - val_loss: 0.2072 - val_acc: 0.9374\n",
      "Epoch 20/30\n",
      "100500/100500 [==============================] - 9s - loss: 0.2176 - acc: 0.9356 - val_loss: 0.2092 - val_acc: 0.9369\n",
      "Epoch 21/30\n",
      "100500/100500 [==============================] - 8s - loss: 0.2180 - acc: 0.9356 - val_loss: 0.2135 - val_acc: 0.9375\n",
      "Epoch 22/30\n",
      "100500/100500 [==============================] - 9s - loss: 0.2186 - acc: 0.9359 - val_loss: 0.2185 - val_acc: 0.9374\n",
      "Epoch 23/30\n",
      "100500/100500 [==============================] - 9s - loss: 0.2219 - acc: 0.9361 - val_loss: 0.2161 - val_acc: 0.9375\n",
      "Epoch 24/30\n",
      "100500/100500 [==============================] - 9s - loss: 0.2212 - acc: 0.9360 - val_loss: 0.2163 - val_acc: 0.9358\n",
      "Epoch 25/30\n",
      "100500/100500 [==============================] - 9s - loss: 0.2228 - acc: 0.9363 - val_loss: 0.2205 - val_acc: 0.9364\n",
      "Epoch 26/30\n",
      "100500/100500 [==============================] - 9s - loss: 0.2209 - acc: 0.9355 - val_loss: 0.2146 - val_acc: 0.9365\n",
      "Epoch 27/30\n",
      "100500/100500 [==============================] - 9s - loss: 0.2243 - acc: 0.9359 - val_loss: 0.2128 - val_acc: 0.9368\n",
      "Epoch 28/30\n",
      "100500/100500 [==============================] - 9s - loss: 0.2220 - acc: 0.9355 - val_loss: 0.2118 - val_acc: 0.9369\n",
      "Epoch 29/30\n",
      "100500/100500 [==============================] - 9s - loss: 0.2231 - acc: 0.9355 - val_loss: 0.2133 - val_acc: 0.9367\n",
      "Epoch 30/30\n",
      "100500/100500 [==============================] - 9s - loss: 0.2224 - acc: 0.9356 - val_loss: 0.2219 - val_acc: 0.9367\n"
     ]
    }
   ],
   "source": [
    "valid_set = (X_test, y_test)\n",
    "nn = NeuralNetwork(validation_set=valid_set)\n",
    "nn.fit(X_train, y_train)"
   ]
  },
  {
   "cell_type": "code",
   "execution_count": null,
   "metadata": {
    "collapsed": true
   },
   "outputs": [],
   "source": []
  }
 ],
 "metadata": {
  "hide_input": false,
  "kernelspec": {
   "display_name": "Python 3",
   "language": "python",
   "name": "python3"
  },
  "language_info": {
   "codemirror_mode": {
    "name": "ipython",
    "version": 3
   },
   "file_extension": ".py",
   "mimetype": "text/x-python",
   "name": "python",
   "nbconvert_exporter": "python",
   "pygments_lexer": "ipython3",
   "version": "3.6.2"
  },
  "toc": {
   "colors": {
    "hover_highlight": "#DAA520",
    "running_highlight": "#FF0000",
    "selected_highlight": "#FFD700"
   },
   "moveMenuLeft": true,
   "nav_menu": {
    "height": "12px",
    "width": "252px"
   },
   "navigate_menu": true,
   "number_sections": true,
   "sideBar": true,
   "threshold": 4,
   "toc_cell": false,
   "toc_section_display": "block",
   "toc_window_display": false,
   "widenNotebook": false
  }
 },
 "nbformat": 4,
 "nbformat_minor": 2
}
